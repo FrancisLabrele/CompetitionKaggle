{
 "cells": [
  {
   "cell_type": "markdown",
   "id": "c1f01116",
   "metadata": {},
   "source": [
    "## Import the libraries"
   ]
  },
  {
   "cell_type": "code",
   "execution_count": 9,
   "id": "df67d081",
   "metadata": {},
   "outputs": [],
   "source": [
    "import os, json, subprocess, warnings\n",
    "warnings.filterwarnings('ignore')\n",
    "\n",
    "import numpy as np\n",
    "import pandas as pd\n",
    "import matplotlib.pyplot as plt\n",
    "import seaborn as sns\n",
    "\n",
    "from pathlib import Path\n",
    "from sklearn.model_selection import KFold, StratifiedKFold, train_test_split\n",
    "from sklearn.metrics import f1_score, classification_report, confusion_matrix\n",
    "\n",
    "import xgboost as xgb\n",
    "import optuna\n",
    "from optuna.integration import XGBoostPruningCallback\n",
    "from optuna.pruners import SuccessiveHalvingPruner\n"
   ]
  },
  {
   "cell_type": "markdown",
   "id": "17ea09a7",
   "metadata": {},
   "source": [
    "## Load the data"
   ]
  },
  {
   "cell_type": "code",
   "execution_count": 10,
   "id": "3ca69f55",
   "metadata": {},
   "outputs": [
    {
     "data": {
      "text/html": [
       "<div>\n",
       "<style scoped>\n",
       "    .dataframe tbody tr th:only-of-type {\n",
       "        vertical-align: middle;\n",
       "    }\n",
       "\n",
       "    .dataframe tbody tr th {\n",
       "        vertical-align: top;\n",
       "    }\n",
       "\n",
       "    .dataframe thead th {\n",
       "        text-align: right;\n",
       "    }\n",
       "</style>\n",
       "<table border=\"1\" class=\"dataframe\">\n",
       "  <thead>\n",
       "    <tr style=\"text-align: right;\">\n",
       "      <th></th>\n",
       "      <th>auctionId</th>\n",
       "      <th>timeStamp</th>\n",
       "      <th>placementId</th>\n",
       "      <th>websiteId</th>\n",
       "      <th>hashedRefererDeepThree</th>\n",
       "      <th>country</th>\n",
       "      <th>opeartingSystem</th>\n",
       "      <th>browser</th>\n",
       "      <th>browserVersion</th>\n",
       "      <th>device</th>\n",
       "      <th>environmentType</th>\n",
       "      <th>integrationType</th>\n",
       "      <th>articleSafenessCategorization</th>\n",
       "      <th>isSold</th>\n",
       "    </tr>\n",
       "  </thead>\n",
       "  <tbody>\n",
       "    <tr>\n",
       "      <th>0</th>\n",
       "      <td>001ed16b-dd08-4599-b8ef-4f56a373c454_6e5f1087-...</td>\n",
       "      <td>1603815466</td>\n",
       "      <td>120706</td>\n",
       "      <td>68203</td>\n",
       "      <td>1ae7c2d3c28b711c072d8e2eb3869fa59090669bdc153e...</td>\n",
       "      <td>US</td>\n",
       "      <td>Windows</td>\n",
       "      <td>Chrome</td>\n",
       "      <td>86_0</td>\n",
       "      <td>PC</td>\n",
       "      <td>js-web</td>\n",
       "      <td>2</td>\n",
       "      <td>safe</td>\n",
       "      <td>False</td>\n",
       "    </tr>\n",
       "    <tr>\n",
       "      <th>1</th>\n",
       "      <td>0024b36a-4fb5-4070-88fb-fc0bfb1909ed</td>\n",
       "      <td>1603974586</td>\n",
       "      <td>69454</td>\n",
       "      <td>42543</td>\n",
       "      <td>df1108bf6ae49dbccf5eab60ff9d04a6a09dda60ec7290...</td>\n",
       "      <td>RO</td>\n",
       "      <td>Android</td>\n",
       "      <td>Facebook App</td>\n",
       "      <td>293_0</td>\n",
       "      <td>Phone</td>\n",
       "      <td>js-fbwv</td>\n",
       "      <td>1</td>\n",
       "      <td>unsafe</td>\n",
       "      <td>False</td>\n",
       "    </tr>\n",
       "    <tr>\n",
       "      <th>2</th>\n",
       "      <td>003630fa-ad63-4283-be1b-141670132d70_f37c2b23-...</td>\n",
       "      <td>1604229969</td>\n",
       "      <td>100170</td>\n",
       "      <td>57703</td>\n",
       "      <td>cc6957e8aec85a4d920991c53874c5d0780bbfbd469802...</td>\n",
       "      <td>UK</td>\n",
       "      <td>Android</td>\n",
       "      <td>Facebook App</td>\n",
       "      <td>294_0</td>\n",
       "      <td>Phone</td>\n",
       "      <td>js-web</td>\n",
       "      <td>2</td>\n",
       "      <td>safe</td>\n",
       "      <td>True</td>\n",
       "    </tr>\n",
       "    <tr>\n",
       "      <th>3</th>\n",
       "      <td>0048c65a-ce76-43ba-98d2-8e87607468f8</td>\n",
       "      <td>1604156610</td>\n",
       "      <td>100446</td>\n",
       "      <td>57797</td>\n",
       "      <td>7fc0bb7a65d074e003cce786cda2b070f80dd47179c4b9...</td>\n",
       "      <td>ES</td>\n",
       "      <td>Android</td>\n",
       "      <td>Chrome Mobile</td>\n",
       "      <td>86_0</td>\n",
       "      <td>Phone</td>\n",
       "      <td>js-ampsf</td>\n",
       "      <td>1</td>\n",
       "      <td>safe</td>\n",
       "      <td>True</td>\n",
       "    </tr>\n",
       "    <tr>\n",
       "      <th>4</th>\n",
       "      <td>0056b8a7-54f9-4ac8-8d50-f725bf377872</td>\n",
       "      <td>1604004493</td>\n",
       "      <td>119517</td>\n",
       "      <td>67613</td>\n",
       "      <td>3a6552ccbf66ad166aa9005c3e08f70716abd676cfd87b...</td>\n",
       "      <td>FR</td>\n",
       "      <td>Android</td>\n",
       "      <td>Facebook App</td>\n",
       "      <td>293_0</td>\n",
       "      <td>Phone</td>\n",
       "      <td>js-fbwv</td>\n",
       "      <td>1</td>\n",
       "      <td>unsafe</td>\n",
       "      <td>False</td>\n",
       "    </tr>\n",
       "  </tbody>\n",
       "</table>\n",
       "</div>"
      ],
      "text/plain": [
       "                                           auctionId   timeStamp  placementId  \\\n",
       "0  001ed16b-dd08-4599-b8ef-4f56a373c454_6e5f1087-...  1603815466       120706   \n",
       "1               0024b36a-4fb5-4070-88fb-fc0bfb1909ed  1603974586        69454   \n",
       "2  003630fa-ad63-4283-be1b-141670132d70_f37c2b23-...  1604229969       100170   \n",
       "3               0048c65a-ce76-43ba-98d2-8e87607468f8  1604156610       100446   \n",
       "4               0056b8a7-54f9-4ac8-8d50-f725bf377872  1604004493       119517   \n",
       "\n",
       "   websiteId                             hashedRefererDeepThree country  \\\n",
       "0      68203  1ae7c2d3c28b711c072d8e2eb3869fa59090669bdc153e...      US   \n",
       "1      42543  df1108bf6ae49dbccf5eab60ff9d04a6a09dda60ec7290...      RO   \n",
       "2      57703  cc6957e8aec85a4d920991c53874c5d0780bbfbd469802...      UK   \n",
       "3      57797  7fc0bb7a65d074e003cce786cda2b070f80dd47179c4b9...      ES   \n",
       "4      67613  3a6552ccbf66ad166aa9005c3e08f70716abd676cfd87b...      FR   \n",
       "\n",
       "  opeartingSystem        browser browserVersion device environmentType  \\\n",
       "0         Windows         Chrome           86_0     PC          js-web   \n",
       "1         Android   Facebook App          293_0  Phone         js-fbwv   \n",
       "2         Android   Facebook App          294_0  Phone          js-web   \n",
       "3         Android  Chrome Mobile           86_0  Phone        js-ampsf   \n",
       "4         Android   Facebook App          293_0  Phone         js-fbwv   \n",
       "\n",
       "   integrationType articleSafenessCategorization  isSold  \n",
       "0                2                          safe   False  \n",
       "1                1                        unsafe   False  \n",
       "2                2                          safe    True  \n",
       "3                1                          safe    True  \n",
       "4                1                        unsafe   False  "
      ]
     },
     "execution_count": 10,
     "metadata": {},
     "output_type": "execute_result"
    }
   ],
   "source": [
    "# Load datasets\n",
    "train = pd.read_csv('train.csv')\n",
    "test = pd.read_csv('test.csv')\n",
    "sample_sub = pd.read_csv('testSubmissionFile.csv')\n",
    "\n",
    "# Display first few rows\n",
    "train.head()"
   ]
  },
  {
   "cell_type": "markdown",
   "id": "6adc3249",
   "metadata": {},
   "source": [
    "## Preprocessing"
   ]
  },
  {
   "cell_type": "code",
   "execution_count": 11,
   "id": "4e858667",
   "metadata": {},
   "outputs": [],
   "source": [
    "# --------------------------------------------------------------------\n",
    "# Helpers\n",
    "# --------------------------------------------------------------------\n",
    "def add_cyclic_features(df, col, period):\n",
    "    df[f\"{col}_sin\"] = np.sin(2 * np.pi * df[col] / period)\n",
    "    df[f\"{col}_cos\"] = np.cos(2 * np.pi * df[col] / period)\n",
    "    return df\n",
    "\n",
    "def frequency_encode(train_col, test_col, min_count=10):\n",
    "    freq = train_col.value_counts()\n",
    "    freq[freq < min_count] = min_count\n",
    "    freq = freq / freq.sum()\n",
    "    return train_col.map(freq).fillna(0), test_col.map(freq).fillna(0)\n",
    "\n",
    "def add_count_feature(train_df, test_df, col):\n",
    "    cnt = train_df[col].value_counts()\n",
    "    train_df[f\"{col}_cnt\"] = train_df[col].map(cnt).fillna(1)\n",
    "    test_df[f\"{col}_cnt\"]  = test_df[col].map(cnt).fillna(1)\n",
    "    return train_df, test_df\n",
    "\n",
    "def add_target_mean_encoding(train_df, test_df, cols, target=\"isSold\", n_splits=5, smoothing=20):\n",
    "    global_mean = train_df[target].mean()\n",
    "    kf = KFold(n_splits=n_splits, shuffle=True, random_state=42)\n",
    "\n",
    "    for col in cols:\n",
    "        oof = pd.Series(index=train_df.index, dtype=float)\n",
    "\n",
    "        for tr_idx, val_idx in kf.split(train_df):\n",
    "            tr, val = train_df.iloc[tr_idx], train_df.iloc[val_idx]\n",
    "            stats = tr.groupby(col)[target].agg([\"mean\", \"count\"])\n",
    "            smooth = (stats[\"count\"]*stats[\"mean\"] + smoothing*global_mean) / \\\n",
    "                     (stats[\"count\"] + smoothing)\n",
    "            oof.iloc[val_idx] = val[col].map(smooth).fillna(global_mean)\n",
    "\n",
    "        train_df[f\"{col}_te\"] = oof\n",
    "\n",
    "        full_stats = train_df.groupby(col)[target].agg([\"mean\", \"count\"])\n",
    "        smooth_full = (full_stats[\"count\"]*full_stats[\"mean\"] + smoothing*global_mean) / \\\n",
    "                      (full_stats[\"count\"] + smoothing)\n",
    "        test_df[f\"{col}_te\"] = test_df[col].map(smooth_full).fillna(global_mean)\n",
    "\n",
    "    return train_df, test_df\n",
    "\n",
    "# --------------------------------------------------------------------\n",
    "# Main preprocessing\n",
    "# --------------------------------------------------------------------\n",
    "def preprocess(train_path: str,\n",
    "               test_path: str,\n",
    "               val_size: float = 0.2,\n",
    "               random_state: int = 42):\n",
    "    # 1. Load\n",
    "    train = pd.read_csv(train_path)\n",
    "    test  = pd.read_csv(test_path)\n",
    "\n",
    "    test_ids = test[\"auctionId\"].copy()\n",
    "\n",
    "    # 2. Time features\n",
    "    for df in (train, test):\n",
    "        df[\"datetime\"] = pd.to_datetime(df[\"timeStamp\"], unit=\"s\")\n",
    "\n",
    "        df[\"year\"]       = df[\"datetime\"].dt.year\n",
    "        df[\"month\"]      = df[\"datetime\"].dt.month\n",
    "        df[\"day\"]        = df[\"datetime\"].dt.day\n",
    "        df[\"hour\"]       = df[\"datetime\"].dt.hour\n",
    "        df[\"dayofweek\"]  = df[\"datetime\"].dt.dayofweek\n",
    "        df[\"is_weekend\"] = df[\"dayofweek\"].isin([5, 6]).astype(\"int8\")\n",
    "\n",
    "        add_cyclic_features(df, \"hour\",      24)\n",
    "        add_cyclic_features(df, \"dayofweek\",  7)\n",
    "        add_cyclic_features(df, \"month\",     12)\n",
    "\n",
    "        df[\"is_night\"]   = df[\"hour\"].between(0, 5).astype(\"int8\")\n",
    "        df[\"is_evening\"] = df[\"hour\"].between(18, 23).astype(\"int8\")\n",
    "\n",
    "    t0 = train[\"datetime\"].min()\n",
    "    for df in (train, test):\n",
    "        df[\"days_since_start\"] = (df[\"datetime\"] - t0).dt.total_seconds() / 86_400\n",
    "\n",
    "    train.drop([\"timeStamp\", \"datetime\"], axis=1, inplace=True)\n",
    "    test.drop([\"timeStamp\", \"datetime\"],   axis=1, inplace=True)\n",
    "\n",
    "    # 3. High-cardinality encodings\n",
    "    hi_card_cols = [\"hashedRefererDeepThree\", \"browserVersion\"]\n",
    "    for col in hi_card_cols:\n",
    "        tr_freq, te_freq = frequency_encode(train[col], test[col], min_count=20)\n",
    "        train[f\"{col}_freq\"] = tr_freq\n",
    "        test[f\"{col}_freq\"]  = te_freq\n",
    "\n",
    "        train, test = add_count_feature(train, test, col)\n",
    "\n",
    "        if train[col].nunique() > 1_000:\n",
    "            train.drop(columns=[col], inplace=True)\n",
    "            test.drop(columns=[col], inplace=True)\n",
    "\n",
    "    # 4. Target mean encoding (placementId, websiteId)\n",
    "    train, test = add_target_mean_encoding(\n",
    "        train, test,\n",
    "        cols=[\"placementId\", \"websiteId\"],\n",
    "        target=\"isSold\",\n",
    "        n_splits=5,\n",
    "        smoothing=20\n",
    "    )\n",
    "\n",
    "    # Facultatif : on peut aussi dropper les brutes si trop volumineuses\n",
    "    train.drop(columns=[\"placementId\", \"websiteId\"], inplace=True)\n",
    "    test.drop(columns=[\"placementId\", \"websiteId\"],  inplace=True)\n",
    "\n",
    "    # 5. Identifiants\n",
    "    train.drop([\"auctionId\"], axis=1, inplace=True)\n",
    "    test.drop([\"auctionId\"],  axis=1, inplace=True)\n",
    "\n",
    "    # 6. Target / features\n",
    "    y = train[\"isSold\"].copy()\n",
    "    X = train.drop(\"isSold\", axis=1)\n",
    "\n",
    "    # 7. One-hot des petites catégorielles\n",
    "    small_cat = [\n",
    "        \"country\", \"opeartingSystem\", \"browser\", \"device\",\n",
    "        \"environmentType\", \"articleSafenessCategorization\",\n",
    "        \"dayofweek\", \"month\"\n",
    "    ]\n",
    "    small_cat = [c for c in small_cat if c in X.columns]\n",
    "\n",
    "    X_test_merge = pd.concat([X, test], axis=0, sort=False)\n",
    "    X_test_merge = pd.get_dummies(\n",
    "        X_test_merge,\n",
    "        columns=small_cat,\n",
    "        dummy_na=False\n",
    "    )\n",
    "\n",
    "    X_enc    = X_test_merge.iloc[: len(X), :].reset_index(drop=True)\n",
    "    test_enc = X_test_merge.iloc[len(X):, :].reset_index(drop=True)\n",
    "\n",
    "    # 8. Train / validation split\n",
    "    X_tr, X_val, y_tr, y_val = train_test_split(\n",
    "        X_enc, y,\n",
    "        test_size=val_size,\n",
    "        random_state=random_state,\n",
    "        stratify=y\n",
    "    )\n",
    "\n",
    "    print(f\"🏷️  Train shape : {X_tr.shape}\")\n",
    "    print(f\"🏷️  Val   shape : {X_val.shape}\")\n",
    "    print(f\"🏷️  Test  shape : {test_enc.shape}\")\n",
    "\n",
    "    return X_tr, X_val, y_tr, y_val, test_enc, test_ids"
   ]
  },
  {
   "cell_type": "markdown",
   "id": "5f26574b",
   "metadata": {},
   "source": [
    "## XGBoost with optuna"
   ]
  },
  {
   "cell_type": "code",
   "execution_count": 13,
   "id": "8b743e38",
   "metadata": {},
   "outputs": [
    {
     "name": "stdout",
     "output_type": "stream",
     "text": [
      "📦 Chargement des données...\n",
      "🏷️  Train shape : (773865, 403)\n",
      "🏷️  Val   shape : (193467, 403)\n",
      "🏷️  Test  shape : (242171, 403)\n",
      "✅ Données chargées et concaténées.\n",
      "🔢 Conversion numérique...\n",
      "✅ Conversion terminée.\n",
      "🎯 Création sous-échantillon pour tuning...\n",
      "✅ Sous-échantillon prêt — Taille : 290200\n",
      "🕵️ Détection GPU...\n",
      "⚙️ Méthode d'arbre sélectionnée : hist\n",
      "⚙️ Prédicteur sélectionné        : cpu_predictor\n"
     ]
    },
    {
     "name": "stderr",
     "output_type": "stream",
     "text": [
      "[I 2025-06-05 01:38:36,672] Using an existing study with name 'xgb_tuning' instead of creating a new one.\n",
      "[W 2025-06-05 01:38:37,861] There are no complete trials.\n"
     ]
    },
    {
     "data": {
      "application/vnd.plotly.v1+json": {
       "config": {
        "plotlyServerURL": "https://plot.ly"
       },
       "data": [],
       "layout": {
        "template": {
         "data": {
          "bar": [
           {
            "error_x": {
             "color": "#2a3f5f"
            },
            "error_y": {
             "color": "#2a3f5f"
            },
            "marker": {
             "line": {
              "color": "#E5ECF6",
              "width": 0.5
             },
             "pattern": {
              "fillmode": "overlay",
              "size": 10,
              "solidity": 0.2
             }
            },
            "type": "bar"
           }
          ],
          "barpolar": [
           {
            "marker": {
             "line": {
              "color": "#E5ECF6",
              "width": 0.5
             },
             "pattern": {
              "fillmode": "overlay",
              "size": 10,
              "solidity": 0.2
             }
            },
            "type": "barpolar"
           }
          ],
          "carpet": [
           {
            "aaxis": {
             "endlinecolor": "#2a3f5f",
             "gridcolor": "white",
             "linecolor": "white",
             "minorgridcolor": "white",
             "startlinecolor": "#2a3f5f"
            },
            "baxis": {
             "endlinecolor": "#2a3f5f",
             "gridcolor": "white",
             "linecolor": "white",
             "minorgridcolor": "white",
             "startlinecolor": "#2a3f5f"
            },
            "type": "carpet"
           }
          ],
          "choropleth": [
           {
            "colorbar": {
             "outlinewidth": 0,
             "ticks": ""
            },
            "type": "choropleth"
           }
          ],
          "contour": [
           {
            "colorbar": {
             "outlinewidth": 0,
             "ticks": ""
            },
            "colorscale": [
             [
              0,
              "#0d0887"
             ],
             [
              0.1111111111111111,
              "#46039f"
             ],
             [
              0.2222222222222222,
              "#7201a8"
             ],
             [
              0.3333333333333333,
              "#9c179e"
             ],
             [
              0.4444444444444444,
              "#bd3786"
             ],
             [
              0.5555555555555556,
              "#d8576b"
             ],
             [
              0.6666666666666666,
              "#ed7953"
             ],
             [
              0.7777777777777778,
              "#fb9f3a"
             ],
             [
              0.8888888888888888,
              "#fdca26"
             ],
             [
              1,
              "#f0f921"
             ]
            ],
            "type": "contour"
           }
          ],
          "contourcarpet": [
           {
            "colorbar": {
             "outlinewidth": 0,
             "ticks": ""
            },
            "type": "contourcarpet"
           }
          ],
          "heatmap": [
           {
            "colorbar": {
             "outlinewidth": 0,
             "ticks": ""
            },
            "colorscale": [
             [
              0,
              "#0d0887"
             ],
             [
              0.1111111111111111,
              "#46039f"
             ],
             [
              0.2222222222222222,
              "#7201a8"
             ],
             [
              0.3333333333333333,
              "#9c179e"
             ],
             [
              0.4444444444444444,
              "#bd3786"
             ],
             [
              0.5555555555555556,
              "#d8576b"
             ],
             [
              0.6666666666666666,
              "#ed7953"
             ],
             [
              0.7777777777777778,
              "#fb9f3a"
             ],
             [
              0.8888888888888888,
              "#fdca26"
             ],
             [
              1,
              "#f0f921"
             ]
            ],
            "type": "heatmap"
           }
          ],
          "histogram": [
           {
            "marker": {
             "pattern": {
              "fillmode": "overlay",
              "size": 10,
              "solidity": 0.2
             }
            },
            "type": "histogram"
           }
          ],
          "histogram2d": [
           {
            "colorbar": {
             "outlinewidth": 0,
             "ticks": ""
            },
            "colorscale": [
             [
              0,
              "#0d0887"
             ],
             [
              0.1111111111111111,
              "#46039f"
             ],
             [
              0.2222222222222222,
              "#7201a8"
             ],
             [
              0.3333333333333333,
              "#9c179e"
             ],
             [
              0.4444444444444444,
              "#bd3786"
             ],
             [
              0.5555555555555556,
              "#d8576b"
             ],
             [
              0.6666666666666666,
              "#ed7953"
             ],
             [
              0.7777777777777778,
              "#fb9f3a"
             ],
             [
              0.8888888888888888,
              "#fdca26"
             ],
             [
              1,
              "#f0f921"
             ]
            ],
            "type": "histogram2d"
           }
          ],
          "histogram2dcontour": [
           {
            "colorbar": {
             "outlinewidth": 0,
             "ticks": ""
            },
            "colorscale": [
             [
              0,
              "#0d0887"
             ],
             [
              0.1111111111111111,
              "#46039f"
             ],
             [
              0.2222222222222222,
              "#7201a8"
             ],
             [
              0.3333333333333333,
              "#9c179e"
             ],
             [
              0.4444444444444444,
              "#bd3786"
             ],
             [
              0.5555555555555556,
              "#d8576b"
             ],
             [
              0.6666666666666666,
              "#ed7953"
             ],
             [
              0.7777777777777778,
              "#fb9f3a"
             ],
             [
              0.8888888888888888,
              "#fdca26"
             ],
             [
              1,
              "#f0f921"
             ]
            ],
            "type": "histogram2dcontour"
           }
          ],
          "mesh3d": [
           {
            "colorbar": {
             "outlinewidth": 0,
             "ticks": ""
            },
            "type": "mesh3d"
           }
          ],
          "parcoords": [
           {
            "line": {
             "colorbar": {
              "outlinewidth": 0,
              "ticks": ""
             }
            },
            "type": "parcoords"
           }
          ],
          "pie": [
           {
            "automargin": true,
            "type": "pie"
           }
          ],
          "scatter": [
           {
            "fillpattern": {
             "fillmode": "overlay",
             "size": 10,
             "solidity": 0.2
            },
            "type": "scatter"
           }
          ],
          "scatter3d": [
           {
            "line": {
             "colorbar": {
              "outlinewidth": 0,
              "ticks": ""
             }
            },
            "marker": {
             "colorbar": {
              "outlinewidth": 0,
              "ticks": ""
             }
            },
            "type": "scatter3d"
           }
          ],
          "scattercarpet": [
           {
            "marker": {
             "colorbar": {
              "outlinewidth": 0,
              "ticks": ""
             }
            },
            "type": "scattercarpet"
           }
          ],
          "scattergeo": [
           {
            "marker": {
             "colorbar": {
              "outlinewidth": 0,
              "ticks": ""
             }
            },
            "type": "scattergeo"
           }
          ],
          "scattergl": [
           {
            "marker": {
             "colorbar": {
              "outlinewidth": 0,
              "ticks": ""
             }
            },
            "type": "scattergl"
           }
          ],
          "scattermap": [
           {
            "marker": {
             "colorbar": {
              "outlinewidth": 0,
              "ticks": ""
             }
            },
            "type": "scattermap"
           }
          ],
          "scattermapbox": [
           {
            "marker": {
             "colorbar": {
              "outlinewidth": 0,
              "ticks": ""
             }
            },
            "type": "scattermapbox"
           }
          ],
          "scatterpolar": [
           {
            "marker": {
             "colorbar": {
              "outlinewidth": 0,
              "ticks": ""
             }
            },
            "type": "scatterpolar"
           }
          ],
          "scatterpolargl": [
           {
            "marker": {
             "colorbar": {
              "outlinewidth": 0,
              "ticks": ""
             }
            },
            "type": "scatterpolargl"
           }
          ],
          "scatterternary": [
           {
            "marker": {
             "colorbar": {
              "outlinewidth": 0,
              "ticks": ""
             }
            },
            "type": "scatterternary"
           }
          ],
          "surface": [
           {
            "colorbar": {
             "outlinewidth": 0,
             "ticks": ""
            },
            "colorscale": [
             [
              0,
              "#0d0887"
             ],
             [
              0.1111111111111111,
              "#46039f"
             ],
             [
              0.2222222222222222,
              "#7201a8"
             ],
             [
              0.3333333333333333,
              "#9c179e"
             ],
             [
              0.4444444444444444,
              "#bd3786"
             ],
             [
              0.5555555555555556,
              "#d8576b"
             ],
             [
              0.6666666666666666,
              "#ed7953"
             ],
             [
              0.7777777777777778,
              "#fb9f3a"
             ],
             [
              0.8888888888888888,
              "#fdca26"
             ],
             [
              1,
              "#f0f921"
             ]
            ],
            "type": "surface"
           }
          ],
          "table": [
           {
            "cells": {
             "fill": {
              "color": "#EBF0F8"
             },
             "line": {
              "color": "white"
             }
            },
            "header": {
             "fill": {
              "color": "#C8D4E3"
             },
             "line": {
              "color": "white"
             }
            },
            "type": "table"
           }
          ]
         },
         "layout": {
          "annotationdefaults": {
           "arrowcolor": "#2a3f5f",
           "arrowhead": 0,
           "arrowwidth": 1
          },
          "autotypenumbers": "strict",
          "coloraxis": {
           "colorbar": {
            "outlinewidth": 0,
            "ticks": ""
           }
          },
          "colorscale": {
           "diverging": [
            [
             0,
             "#8e0152"
            ],
            [
             0.1,
             "#c51b7d"
            ],
            [
             0.2,
             "#de77ae"
            ],
            [
             0.3,
             "#f1b6da"
            ],
            [
             0.4,
             "#fde0ef"
            ],
            [
             0.5,
             "#f7f7f7"
            ],
            [
             0.6,
             "#e6f5d0"
            ],
            [
             0.7,
             "#b8e186"
            ],
            [
             0.8,
             "#7fbc41"
            ],
            [
             0.9,
             "#4d9221"
            ],
            [
             1,
             "#276419"
            ]
           ],
           "sequential": [
            [
             0,
             "#0d0887"
            ],
            [
             0.1111111111111111,
             "#46039f"
            ],
            [
             0.2222222222222222,
             "#7201a8"
            ],
            [
             0.3333333333333333,
             "#9c179e"
            ],
            [
             0.4444444444444444,
             "#bd3786"
            ],
            [
             0.5555555555555556,
             "#d8576b"
            ],
            [
             0.6666666666666666,
             "#ed7953"
            ],
            [
             0.7777777777777778,
             "#fb9f3a"
            ],
            [
             0.8888888888888888,
             "#fdca26"
            ],
            [
             1,
             "#f0f921"
            ]
           ],
           "sequentialminus": [
            [
             0,
             "#0d0887"
            ],
            [
             0.1111111111111111,
             "#46039f"
            ],
            [
             0.2222222222222222,
             "#7201a8"
            ],
            [
             0.3333333333333333,
             "#9c179e"
            ],
            [
             0.4444444444444444,
             "#bd3786"
            ],
            [
             0.5555555555555556,
             "#d8576b"
            ],
            [
             0.6666666666666666,
             "#ed7953"
            ],
            [
             0.7777777777777778,
             "#fb9f3a"
            ],
            [
             0.8888888888888888,
             "#fdca26"
            ],
            [
             1,
             "#f0f921"
            ]
           ]
          },
          "colorway": [
           "#636efa",
           "#EF553B",
           "#00cc96",
           "#ab63fa",
           "#FFA15A",
           "#19d3f3",
           "#FF6692",
           "#B6E880",
           "#FF97FF",
           "#FECB52"
          ],
          "font": {
           "color": "#2a3f5f"
          },
          "geo": {
           "bgcolor": "white",
           "lakecolor": "white",
           "landcolor": "#E5ECF6",
           "showlakes": true,
           "showland": true,
           "subunitcolor": "white"
          },
          "hoverlabel": {
           "align": "left"
          },
          "hovermode": "closest",
          "mapbox": {
           "style": "light"
          },
          "paper_bgcolor": "white",
          "plot_bgcolor": "#E5ECF6",
          "polar": {
           "angularaxis": {
            "gridcolor": "white",
            "linecolor": "white",
            "ticks": ""
           },
           "bgcolor": "#E5ECF6",
           "radialaxis": {
            "gridcolor": "white",
            "linecolor": "white",
            "ticks": ""
           }
          },
          "scene": {
           "xaxis": {
            "backgroundcolor": "#E5ECF6",
            "gridcolor": "white",
            "gridwidth": 2,
            "linecolor": "white",
            "showbackground": true,
            "ticks": "",
            "zerolinecolor": "white"
           },
           "yaxis": {
            "backgroundcolor": "#E5ECF6",
            "gridcolor": "white",
            "gridwidth": 2,
            "linecolor": "white",
            "showbackground": true,
            "ticks": "",
            "zerolinecolor": "white"
           },
           "zaxis": {
            "backgroundcolor": "#E5ECF6",
            "gridcolor": "white",
            "gridwidth": 2,
            "linecolor": "white",
            "showbackground": true,
            "ticks": "",
            "zerolinecolor": "white"
           }
          },
          "shapedefaults": {
           "line": {
            "color": "#2a3f5f"
           }
          },
          "ternary": {
           "aaxis": {
            "gridcolor": "white",
            "linecolor": "white",
            "ticks": ""
           },
           "baxis": {
            "gridcolor": "white",
            "linecolor": "white",
            "ticks": ""
           },
           "bgcolor": "#E5ECF6",
           "caxis": {
            "gridcolor": "white",
            "linecolor": "white",
            "ticks": ""
           }
          },
          "title": {
           "x": 0.05
          },
          "xaxis": {
           "automargin": true,
           "gridcolor": "white",
           "linecolor": "white",
           "ticks": "",
           "title": {
            "standoff": 15
           },
           "zerolinecolor": "white",
           "zerolinewidth": 2
          },
          "yaxis": {
           "automargin": true,
           "gridcolor": "white",
           "linecolor": "white",
           "ticks": "",
           "title": {
            "standoff": 15
           },
           "zerolinecolor": "white",
           "zerolinewidth": 2
          }
         }
        },
        "title": {
         "text": "Optimization History Plot"
        },
        "xaxis": {
         "title": {
          "text": "Trial"
         }
        },
        "yaxis": {
         "title": {
          "text": "Objective Value"
         }
        }
       }
      }
     },
     "metadata": {},
     "output_type": "display_data"
    },
    {
     "name": "stdout",
     "output_type": "stream",
     "text": [
      "⏳ Reprise : 1 essais faits, encore 19 à faire.\n"
     ]
    },
    {
     "data": {
      "application/json": {
       "ascii": false,
       "bar_format": null,
       "colour": null,
       "elapsed": 0.035308122634887695,
       "initial": 0,
       "n": 0,
       "ncols": null,
       "nrows": null,
       "postfix": null,
       "prefix": "",
       "rate": null,
       "total": 19,
       "unit": "it",
       "unit_divisor": 1000,
       "unit_scale": false
      },
      "application/vnd.jupyter.widget-view+json": {
       "model_id": "bfb5afd9b41a471991864d8d0600f0be",
       "version_major": 2,
       "version_minor": 0
      },
      "text/plain": [
       "  0%|          | 0/19 [00:00<?, ?it/s]"
      ]
     },
     "metadata": {},
     "output_type": "display_data"
    },
    {
     "name": "stdout",
     "output_type": "stream",
     "text": [
      "\n",
      "🔬 Début essai Optuna n°1\n",
      "  ➤ Fold 1/5 — entraînement en cours...\n",
      "[W 2025-06-05 01:48:09,504] Trial 1 failed with parameters: {'objective': 'binary:logitraw', 'eta': 0.03155463103012829, 'max_depth': 10, 'max_leaves': 332, 'grow_policy': 'lossguide', 'max_bin': 256, 'min_child_weight': 4.236568067545283, 'max_delta_step': 2, 'lambda': 0.00111185336801772, 'alpha': 0.19776678488313137, 'subsample': 0.35272562550916, 'colsample_bytree': 0.33361321897636215, 'gamma': 3.795709855695428e-07, 'scale_pos_weight': 0.8660075758935225} because of the following error: KeyboardInterrupt().\n",
      "Traceback (most recent call last):\n",
      "  File \"c:\\Users\\lucas\\AppData\\Local\\Programs\\Python\\Python39\\lib\\site-packages\\optuna\\study\\_optimize.py\", line 197, in _run_trial\n",
      "    value_or_values = func(trial)\n",
      "  File \"C:\\Users\\lucas\\AppData\\Local\\Temp\\ipykernel_13848\\4116761847.py\", line 110, in objective\n",
      "    bst = xgb.train(\n",
      "  File \"c:\\Users\\lucas\\AppData\\Local\\Programs\\Python\\Python39\\lib\\site-packages\\xgboost\\core.py\", line 726, in inner_f\n",
      "    return func(**kwargs)\n",
      "  File \"c:\\Users\\lucas\\AppData\\Local\\Programs\\Python\\Python39\\lib\\site-packages\\xgboost\\training.py\", line 181, in train\n",
      "    bst.update(dtrain, iteration=i, fobj=obj)\n",
      "  File \"c:\\Users\\lucas\\AppData\\Local\\Programs\\Python\\Python39\\lib\\site-packages\\xgboost\\core.py\", line 2101, in update\n",
      "    _LIB.XGBoosterUpdateOneIter(\n",
      "KeyboardInterrupt\n",
      "[W 2025-06-05 01:48:09,514] Trial 1 failed with value None.\n"
     ]
    },
    {
     "ename": "KeyboardInterrupt",
     "evalue": "",
     "output_type": "error",
     "traceback": [
      "\u001b[1;31m---------------------------------------------------------------------------\u001b[0m",
      "\u001b[1;31mKeyboardInterrupt\u001b[0m                         Traceback (most recent call last)",
      "Cell \u001b[1;32mIn[13], line 160\u001b[0m\n\u001b[0;32m    158\u001b[0m \u001b[38;5;28;01melse\u001b[39;00m:\n\u001b[0;32m    159\u001b[0m     \u001b[38;5;28mprint\u001b[39m(\u001b[38;5;124mf\u001b[39m\u001b[38;5;124m\"\u001b[39m\u001b[38;5;124m⏳ Reprise : \u001b[39m\u001b[38;5;132;01m{\u001b[39;00mdone\u001b[38;5;132;01m}\u001b[39;00m\u001b[38;5;124m essais faits, encore \u001b[39m\u001b[38;5;132;01m{\u001b[39;00mremaining\u001b[38;5;132;01m}\u001b[39;00m\u001b[38;5;124m à faire.\u001b[39m\u001b[38;5;124m\"\u001b[39m)\n\u001b[1;32m--> 160\u001b[0m     \u001b[43mstudy\u001b[49m\u001b[38;5;241;43m.\u001b[39;49m\u001b[43moptimize\u001b[49m\u001b[43m(\u001b[49m\u001b[43mobjective\u001b[49m\u001b[43m,\u001b[49m\u001b[43m \u001b[49m\u001b[43mn_trials\u001b[49m\u001b[38;5;241;43m=\u001b[39;49m\u001b[43mremaining\u001b[49m\u001b[43m,\u001b[49m\u001b[43m \u001b[49m\u001b[43mshow_progress_bar\u001b[49m\u001b[38;5;241;43m=\u001b[39;49m\u001b[38;5;28;43;01mTrue\u001b[39;49;00m\u001b[43m)\u001b[49m\n\u001b[0;32m    162\u001b[0m best_params \u001b[38;5;241m=\u001b[39m study\u001b[38;5;241m.\u001b[39mbest_params\u001b[38;5;241m.\u001b[39mcopy()\n\u001b[0;32m    163\u001b[0m best_iter   \u001b[38;5;241m=\u001b[39m \u001b[38;5;28mint\u001b[39m(study\u001b[38;5;241m.\u001b[39mbest_trial\u001b[38;5;241m.\u001b[39muser_attrs[\u001b[38;5;124m\"\u001b[39m\u001b[38;5;124mbest_iter\u001b[39m\u001b[38;5;124m\"\u001b[39m])\n",
      "File \u001b[1;32mc:\\Users\\lucas\\AppData\\Local\\Programs\\Python\\Python39\\lib\\site-packages\\optuna\\study\\study.py:475\u001b[0m, in \u001b[0;36mStudy.optimize\u001b[1;34m(self, func, n_trials, timeout, n_jobs, catch, callbacks, gc_after_trial, show_progress_bar)\u001b[0m\n\u001b[0;32m    373\u001b[0m \u001b[38;5;28;01mdef\u001b[39;00m \u001b[38;5;21moptimize\u001b[39m(\n\u001b[0;32m    374\u001b[0m     \u001b[38;5;28mself\u001b[39m,\n\u001b[0;32m    375\u001b[0m     func: ObjectiveFuncType,\n\u001b[1;32m   (...)\u001b[0m\n\u001b[0;32m    382\u001b[0m     show_progress_bar: \u001b[38;5;28mbool\u001b[39m \u001b[38;5;241m=\u001b[39m \u001b[38;5;28;01mFalse\u001b[39;00m,\n\u001b[0;32m    383\u001b[0m ) \u001b[38;5;241m-\u001b[39m\u001b[38;5;241m>\u001b[39m \u001b[38;5;28;01mNone\u001b[39;00m:\n\u001b[0;32m    384\u001b[0m \u001b[38;5;250m    \u001b[39m\u001b[38;5;124;03m\"\"\"Optimize an objective function.\u001b[39;00m\n\u001b[0;32m    385\u001b[0m \n\u001b[0;32m    386\u001b[0m \u001b[38;5;124;03m    Optimization is done by choosing a suitable set of hyperparameter values from a given\u001b[39;00m\n\u001b[1;32m   (...)\u001b[0m\n\u001b[0;32m    473\u001b[0m \u001b[38;5;124;03m            If nested invocation of this method occurs.\u001b[39;00m\n\u001b[0;32m    474\u001b[0m \u001b[38;5;124;03m    \"\"\"\u001b[39;00m\n\u001b[1;32m--> 475\u001b[0m     \u001b[43m_optimize\u001b[49m\u001b[43m(\u001b[49m\n\u001b[0;32m    476\u001b[0m \u001b[43m        \u001b[49m\u001b[43mstudy\u001b[49m\u001b[38;5;241;43m=\u001b[39;49m\u001b[38;5;28;43mself\u001b[39;49m\u001b[43m,\u001b[49m\n\u001b[0;32m    477\u001b[0m \u001b[43m        \u001b[49m\u001b[43mfunc\u001b[49m\u001b[38;5;241;43m=\u001b[39;49m\u001b[43mfunc\u001b[49m\u001b[43m,\u001b[49m\n\u001b[0;32m    478\u001b[0m \u001b[43m        \u001b[49m\u001b[43mn_trials\u001b[49m\u001b[38;5;241;43m=\u001b[39;49m\u001b[43mn_trials\u001b[49m\u001b[43m,\u001b[49m\n\u001b[0;32m    479\u001b[0m \u001b[43m        \u001b[49m\u001b[43mtimeout\u001b[49m\u001b[38;5;241;43m=\u001b[39;49m\u001b[43mtimeout\u001b[49m\u001b[43m,\u001b[49m\n\u001b[0;32m    480\u001b[0m \u001b[43m        \u001b[49m\u001b[43mn_jobs\u001b[49m\u001b[38;5;241;43m=\u001b[39;49m\u001b[43mn_jobs\u001b[49m\u001b[43m,\u001b[49m\n\u001b[0;32m    481\u001b[0m \u001b[43m        \u001b[49m\u001b[43mcatch\u001b[49m\u001b[38;5;241;43m=\u001b[39;49m\u001b[38;5;28;43mtuple\u001b[39;49m\u001b[43m(\u001b[49m\u001b[43mcatch\u001b[49m\u001b[43m)\u001b[49m\u001b[43m \u001b[49m\u001b[38;5;28;43;01mif\u001b[39;49;00m\u001b[43m \u001b[49m\u001b[38;5;28;43misinstance\u001b[39;49m\u001b[43m(\u001b[49m\u001b[43mcatch\u001b[49m\u001b[43m,\u001b[49m\u001b[43m \u001b[49m\u001b[43mIterable\u001b[49m\u001b[43m)\u001b[49m\u001b[43m \u001b[49m\u001b[38;5;28;43;01melse\u001b[39;49;00m\u001b[43m \u001b[49m\u001b[43m(\u001b[49m\u001b[43mcatch\u001b[49m\u001b[43m,\u001b[49m\u001b[43m)\u001b[49m\u001b[43m,\u001b[49m\n\u001b[0;32m    482\u001b[0m \u001b[43m        \u001b[49m\u001b[43mcallbacks\u001b[49m\u001b[38;5;241;43m=\u001b[39;49m\u001b[43mcallbacks\u001b[49m\u001b[43m,\u001b[49m\n\u001b[0;32m    483\u001b[0m \u001b[43m        \u001b[49m\u001b[43mgc_after_trial\u001b[49m\u001b[38;5;241;43m=\u001b[39;49m\u001b[43mgc_after_trial\u001b[49m\u001b[43m,\u001b[49m\n\u001b[0;32m    484\u001b[0m \u001b[43m        \u001b[49m\u001b[43mshow_progress_bar\u001b[49m\u001b[38;5;241;43m=\u001b[39;49m\u001b[43mshow_progress_bar\u001b[49m\u001b[43m,\u001b[49m\n\u001b[0;32m    485\u001b[0m \u001b[43m    \u001b[49m\u001b[43m)\u001b[49m\n",
      "File \u001b[1;32mc:\\Users\\lucas\\AppData\\Local\\Programs\\Python\\Python39\\lib\\site-packages\\optuna\\study\\_optimize.py:63\u001b[0m, in \u001b[0;36m_optimize\u001b[1;34m(study, func, n_trials, timeout, n_jobs, catch, callbacks, gc_after_trial, show_progress_bar)\u001b[0m\n\u001b[0;32m     61\u001b[0m \u001b[38;5;28;01mtry\u001b[39;00m:\n\u001b[0;32m     62\u001b[0m     \u001b[38;5;28;01mif\u001b[39;00m n_jobs \u001b[38;5;241m==\u001b[39m \u001b[38;5;241m1\u001b[39m:\n\u001b[1;32m---> 63\u001b[0m         \u001b[43m_optimize_sequential\u001b[49m\u001b[43m(\u001b[49m\n\u001b[0;32m     64\u001b[0m \u001b[43m            \u001b[49m\u001b[43mstudy\u001b[49m\u001b[43m,\u001b[49m\n\u001b[0;32m     65\u001b[0m \u001b[43m            \u001b[49m\u001b[43mfunc\u001b[49m\u001b[43m,\u001b[49m\n\u001b[0;32m     66\u001b[0m \u001b[43m            \u001b[49m\u001b[43mn_trials\u001b[49m\u001b[43m,\u001b[49m\n\u001b[0;32m     67\u001b[0m \u001b[43m            \u001b[49m\u001b[43mtimeout\u001b[49m\u001b[43m,\u001b[49m\n\u001b[0;32m     68\u001b[0m \u001b[43m            \u001b[49m\u001b[43mcatch\u001b[49m\u001b[43m,\u001b[49m\n\u001b[0;32m     69\u001b[0m \u001b[43m            \u001b[49m\u001b[43mcallbacks\u001b[49m\u001b[43m,\u001b[49m\n\u001b[0;32m     70\u001b[0m \u001b[43m            \u001b[49m\u001b[43mgc_after_trial\u001b[49m\u001b[43m,\u001b[49m\n\u001b[0;32m     71\u001b[0m \u001b[43m            \u001b[49m\u001b[43mreseed_sampler_rng\u001b[49m\u001b[38;5;241;43m=\u001b[39;49m\u001b[38;5;28;43;01mFalse\u001b[39;49;00m\u001b[43m,\u001b[49m\n\u001b[0;32m     72\u001b[0m \u001b[43m            \u001b[49m\u001b[43mtime_start\u001b[49m\u001b[38;5;241;43m=\u001b[39;49m\u001b[38;5;28;43;01mNone\u001b[39;49;00m\u001b[43m,\u001b[49m\n\u001b[0;32m     73\u001b[0m \u001b[43m            \u001b[49m\u001b[43mprogress_bar\u001b[49m\u001b[38;5;241;43m=\u001b[39;49m\u001b[43mprogress_bar\u001b[49m\u001b[43m,\u001b[49m\n\u001b[0;32m     74\u001b[0m \u001b[43m        \u001b[49m\u001b[43m)\u001b[49m\n\u001b[0;32m     75\u001b[0m     \u001b[38;5;28;01melse\u001b[39;00m:\n\u001b[0;32m     76\u001b[0m         \u001b[38;5;28;01mif\u001b[39;00m n_jobs \u001b[38;5;241m==\u001b[39m \u001b[38;5;241m-\u001b[39m\u001b[38;5;241m1\u001b[39m:\n",
      "File \u001b[1;32mc:\\Users\\lucas\\AppData\\Local\\Programs\\Python\\Python39\\lib\\site-packages\\optuna\\study\\_optimize.py:160\u001b[0m, in \u001b[0;36m_optimize_sequential\u001b[1;34m(study, func, n_trials, timeout, catch, callbacks, gc_after_trial, reseed_sampler_rng, time_start, progress_bar)\u001b[0m\n\u001b[0;32m    157\u001b[0m         \u001b[38;5;28;01mbreak\u001b[39;00m\n\u001b[0;32m    159\u001b[0m \u001b[38;5;28;01mtry\u001b[39;00m:\n\u001b[1;32m--> 160\u001b[0m     frozen_trial \u001b[38;5;241m=\u001b[39m \u001b[43m_run_trial\u001b[49m\u001b[43m(\u001b[49m\u001b[43mstudy\u001b[49m\u001b[43m,\u001b[49m\u001b[43m \u001b[49m\u001b[43mfunc\u001b[49m\u001b[43m,\u001b[49m\u001b[43m \u001b[49m\u001b[43mcatch\u001b[49m\u001b[43m)\u001b[49m\n\u001b[0;32m    161\u001b[0m \u001b[38;5;28;01mfinally\u001b[39;00m:\n\u001b[0;32m    162\u001b[0m     \u001b[38;5;66;03m# The following line mitigates memory problems that can be occurred in some\u001b[39;00m\n\u001b[0;32m    163\u001b[0m     \u001b[38;5;66;03m# environments (e.g., services that use computing containers such as GitHub Actions).\u001b[39;00m\n\u001b[0;32m    164\u001b[0m     \u001b[38;5;66;03m# Please refer to the following PR for further details:\u001b[39;00m\n\u001b[0;32m    165\u001b[0m     \u001b[38;5;66;03m# https://github.com/optuna/optuna/pull/325.\u001b[39;00m\n\u001b[0;32m    166\u001b[0m     \u001b[38;5;28;01mif\u001b[39;00m gc_after_trial:\n",
      "File \u001b[1;32mc:\\Users\\lucas\\AppData\\Local\\Programs\\Python\\Python39\\lib\\site-packages\\optuna\\study\\_optimize.py:248\u001b[0m, in \u001b[0;36m_run_trial\u001b[1;34m(study, func, catch)\u001b[0m\n\u001b[0;32m    241\u001b[0m         \u001b[38;5;28;01massert\u001b[39;00m \u001b[38;5;28;01mFalse\u001b[39;00m, \u001b[38;5;124m\"\u001b[39m\u001b[38;5;124mShould not reach.\u001b[39m\u001b[38;5;124m\"\u001b[39m\n\u001b[0;32m    243\u001b[0m \u001b[38;5;28;01mif\u001b[39;00m (\n\u001b[0;32m    244\u001b[0m     frozen_trial\u001b[38;5;241m.\u001b[39mstate \u001b[38;5;241m==\u001b[39m TrialState\u001b[38;5;241m.\u001b[39mFAIL\n\u001b[0;32m    245\u001b[0m     \u001b[38;5;129;01mand\u001b[39;00m func_err \u001b[38;5;129;01mis\u001b[39;00m \u001b[38;5;129;01mnot\u001b[39;00m \u001b[38;5;28;01mNone\u001b[39;00m\n\u001b[0;32m    246\u001b[0m     \u001b[38;5;129;01mand\u001b[39;00m \u001b[38;5;129;01mnot\u001b[39;00m \u001b[38;5;28misinstance\u001b[39m(func_err, catch)\n\u001b[0;32m    247\u001b[0m ):\n\u001b[1;32m--> 248\u001b[0m     \u001b[38;5;28;01mraise\u001b[39;00m func_err\n\u001b[0;32m    249\u001b[0m \u001b[38;5;28;01mreturn\u001b[39;00m frozen_trial\n",
      "File \u001b[1;32mc:\\Users\\lucas\\AppData\\Local\\Programs\\Python\\Python39\\lib\\site-packages\\optuna\\study\\_optimize.py:197\u001b[0m, in \u001b[0;36m_run_trial\u001b[1;34m(study, func, catch)\u001b[0m\n\u001b[0;32m    195\u001b[0m \u001b[38;5;28;01mwith\u001b[39;00m get_heartbeat_thread(trial\u001b[38;5;241m.\u001b[39m_trial_id, study\u001b[38;5;241m.\u001b[39m_storage):\n\u001b[0;32m    196\u001b[0m     \u001b[38;5;28;01mtry\u001b[39;00m:\n\u001b[1;32m--> 197\u001b[0m         value_or_values \u001b[38;5;241m=\u001b[39m \u001b[43mfunc\u001b[49m\u001b[43m(\u001b[49m\u001b[43mtrial\u001b[49m\u001b[43m)\u001b[49m\n\u001b[0;32m    198\u001b[0m     \u001b[38;5;28;01mexcept\u001b[39;00m exceptions\u001b[38;5;241m.\u001b[39mTrialPruned \u001b[38;5;28;01mas\u001b[39;00m e:\n\u001b[0;32m    199\u001b[0m         \u001b[38;5;66;03m# TODO(mamu): Handle multi-objective cases.\u001b[39;00m\n\u001b[0;32m    200\u001b[0m         state \u001b[38;5;241m=\u001b[39m TrialState\u001b[38;5;241m.\u001b[39mPRUNED\n",
      "Cell \u001b[1;32mIn[13], line 110\u001b[0m, in \u001b[0;36mobjective\u001b[1;34m(trial)\u001b[0m\n\u001b[0;32m    107\u001b[0m \u001b[38;5;28;01mif\u001b[39;00m fold \u001b[38;5;241m==\u001b[39m \u001b[38;5;241m0\u001b[39m:\n\u001b[0;32m    108\u001b[0m     cbs\u001b[38;5;241m.\u001b[39mappend(XGBoostPruningCallback(trial, \u001b[38;5;124m\"\u001b[39m\u001b[38;5;124mval-auc\u001b[39m\u001b[38;5;124m\"\u001b[39m))\n\u001b[1;32m--> 110\u001b[0m bst \u001b[38;5;241m=\u001b[39m \u001b[43mxgb\u001b[49m\u001b[38;5;241;43m.\u001b[39;49m\u001b[43mtrain\u001b[49m\u001b[43m(\u001b[49m\n\u001b[0;32m    111\u001b[0m \u001b[43m    \u001b[49m\u001b[43mparams\u001b[49m\u001b[43m,\u001b[49m\u001b[43m \u001b[49m\u001b[43mdtr\u001b[49m\u001b[43m,\u001b[49m\n\u001b[0;32m    112\u001b[0m \u001b[43m    \u001b[49m\u001b[43mnum_boost_round\u001b[49m\u001b[38;5;241;43m=\u001b[39;49m\u001b[38;5;241;43m8000\u001b[39;49m\u001b[43m,\u001b[49m\n\u001b[0;32m    113\u001b[0m \u001b[43m    \u001b[49m\u001b[43mevals\u001b[49m\u001b[38;5;241;43m=\u001b[39;49m\u001b[43m[\u001b[49m\u001b[43m(\u001b[49m\u001b[43mdva\u001b[49m\u001b[43m,\u001b[49m\u001b[43m \u001b[49m\u001b[38;5;124;43m\"\u001b[39;49m\u001b[38;5;124;43mval\u001b[39;49m\u001b[38;5;124;43m\"\u001b[39;49m\u001b[43m)\u001b[49m\u001b[43m]\u001b[49m\u001b[43m,\u001b[49m\n\u001b[0;32m    114\u001b[0m \u001b[43m    \u001b[49m\u001b[43mcallbacks\u001b[49m\u001b[38;5;241;43m=\u001b[39;49m\u001b[43mcbs\u001b[49m\u001b[43m,\u001b[49m\n\u001b[0;32m    115\u001b[0m \u001b[43m    \u001b[49m\u001b[43mverbose_eval\u001b[49m\u001b[38;5;241;43m=\u001b[39;49m\u001b[38;5;28;43;01mFalse\u001b[39;49;00m\n\u001b[0;32m    116\u001b[0m \u001b[43m\u001b[49m\u001b[43m)\u001b[49m\n\u001b[0;32m    118\u001b[0m \u001b[38;5;28mprint\u001b[39m(\u001b[38;5;124mf\u001b[39m\u001b[38;5;124m\"\u001b[39m\u001b[38;5;124m     ✅ Fold \u001b[39m\u001b[38;5;132;01m{\u001b[39;00mfold\u001b[38;5;250m \u001b[39m\u001b[38;5;241m+\u001b[39m\u001b[38;5;250m \u001b[39m\u001b[38;5;241m1\u001b[39m\u001b[38;5;132;01m}\u001b[39;00m\u001b[38;5;124m terminé — Best iteration: \u001b[39m\u001b[38;5;132;01m{\u001b[39;00mbst\u001b[38;5;241m.\u001b[39mbest_iteration\u001b[38;5;132;01m}\u001b[39;00m\u001b[38;5;124m\"\u001b[39m)\n\u001b[0;32m    120\u001b[0m preds\u001b[38;5;241m.\u001b[39mappend(bst\u001b[38;5;241m.\u001b[39mpredict(dva, iteration_range\u001b[38;5;241m=\u001b[39m(\u001b[38;5;241m0\u001b[39m, bst\u001b[38;5;241m.\u001b[39mbest_iteration)))\n",
      "File \u001b[1;32mc:\\Users\\lucas\\AppData\\Local\\Programs\\Python\\Python39\\lib\\site-packages\\xgboost\\core.py:726\u001b[0m, in \u001b[0;36mrequire_keyword_args.<locals>.throw_if.<locals>.inner_f\u001b[1;34m(*args, **kwargs)\u001b[0m\n\u001b[0;32m    724\u001b[0m \u001b[38;5;28;01mfor\u001b[39;00m k, arg \u001b[38;5;129;01min\u001b[39;00m \u001b[38;5;28mzip\u001b[39m(sig\u001b[38;5;241m.\u001b[39mparameters, args):\n\u001b[0;32m    725\u001b[0m     kwargs[k] \u001b[38;5;241m=\u001b[39m arg\n\u001b[1;32m--> 726\u001b[0m \u001b[38;5;28;01mreturn\u001b[39;00m func(\u001b[38;5;241m*\u001b[39m\u001b[38;5;241m*\u001b[39mkwargs)\n",
      "File \u001b[1;32mc:\\Users\\lucas\\AppData\\Local\\Programs\\Python\\Python39\\lib\\site-packages\\xgboost\\training.py:181\u001b[0m, in \u001b[0;36mtrain\u001b[1;34m(params, dtrain, num_boost_round, evals, obj, feval, maximize, early_stopping_rounds, evals_result, verbose_eval, xgb_model, callbacks, custom_metric)\u001b[0m\n\u001b[0;32m    179\u001b[0m \u001b[38;5;28;01mif\u001b[39;00m cb_container\u001b[38;5;241m.\u001b[39mbefore_iteration(bst, i, dtrain, evals):\n\u001b[0;32m    180\u001b[0m     \u001b[38;5;28;01mbreak\u001b[39;00m\n\u001b[1;32m--> 181\u001b[0m \u001b[43mbst\u001b[49m\u001b[38;5;241;43m.\u001b[39;49m\u001b[43mupdate\u001b[49m\u001b[43m(\u001b[49m\u001b[43mdtrain\u001b[49m\u001b[43m,\u001b[49m\u001b[43m \u001b[49m\u001b[43miteration\u001b[49m\u001b[38;5;241;43m=\u001b[39;49m\u001b[43mi\u001b[49m\u001b[43m,\u001b[49m\u001b[43m \u001b[49m\u001b[43mfobj\u001b[49m\u001b[38;5;241;43m=\u001b[39;49m\u001b[43mobj\u001b[49m\u001b[43m)\u001b[49m\n\u001b[0;32m    182\u001b[0m \u001b[38;5;28;01mif\u001b[39;00m cb_container\u001b[38;5;241m.\u001b[39mafter_iteration(bst, i, dtrain, evals):\n\u001b[0;32m    183\u001b[0m     \u001b[38;5;28;01mbreak\u001b[39;00m\n",
      "File \u001b[1;32mc:\\Users\\lucas\\AppData\\Local\\Programs\\Python\\Python39\\lib\\site-packages\\xgboost\\core.py:2101\u001b[0m, in \u001b[0;36mBooster.update\u001b[1;34m(self, dtrain, iteration, fobj)\u001b[0m\n\u001b[0;32m   2097\u001b[0m \u001b[38;5;28mself\u001b[39m\u001b[38;5;241m.\u001b[39m_assign_dmatrix_features(dtrain)\n\u001b[0;32m   2099\u001b[0m \u001b[38;5;28;01mif\u001b[39;00m fobj \u001b[38;5;129;01mis\u001b[39;00m \u001b[38;5;28;01mNone\u001b[39;00m:\n\u001b[0;32m   2100\u001b[0m     _check_call(\n\u001b[1;32m-> 2101\u001b[0m         \u001b[43m_LIB\u001b[49m\u001b[38;5;241;43m.\u001b[39;49m\u001b[43mXGBoosterUpdateOneIter\u001b[49m\u001b[43m(\u001b[49m\n\u001b[0;32m   2102\u001b[0m \u001b[43m            \u001b[49m\u001b[38;5;28;43mself\u001b[39;49m\u001b[38;5;241;43m.\u001b[39;49m\u001b[43mhandle\u001b[49m\u001b[43m,\u001b[49m\u001b[43m \u001b[49m\u001b[43mctypes\u001b[49m\u001b[38;5;241;43m.\u001b[39;49m\u001b[43mc_int\u001b[49m\u001b[43m(\u001b[49m\u001b[43miteration\u001b[49m\u001b[43m)\u001b[49m\u001b[43m,\u001b[49m\u001b[43m \u001b[49m\u001b[43mdtrain\u001b[49m\u001b[38;5;241;43m.\u001b[39;49m\u001b[43mhandle\u001b[49m\n\u001b[0;32m   2103\u001b[0m \u001b[43m        \u001b[49m\u001b[43m)\u001b[49m\n\u001b[0;32m   2104\u001b[0m     )\n\u001b[0;32m   2105\u001b[0m \u001b[38;5;28;01melse\u001b[39;00m:\n\u001b[0;32m   2106\u001b[0m     pred \u001b[38;5;241m=\u001b[39m \u001b[38;5;28mself\u001b[39m\u001b[38;5;241m.\u001b[39mpredict(dtrain, output_margin\u001b[38;5;241m=\u001b[39m\u001b[38;5;28;01mTrue\u001b[39;00m, training\u001b[38;5;241m=\u001b[39m\u001b[38;5;28;01mTrue\u001b[39;00m)\n",
      "\u001b[1;31mKeyboardInterrupt\u001b[0m: "
     ]
    }
   ],
   "source": [
    "##############################################################################\n",
    "# XGBoost + Optuna – 1 M lignes  • RTX 4060  • objectif F1\n",
    "#  • échantillon 30 % (≈300 k) pour le tuning\n",
    "#  • 50 essais  • Successive-Halving  • 5-fold CV\n",
    "#  • borne haute 8 000 arbres  • early-stop 150\n",
    "##############################################################################\n",
    "\n",
    "# ------------------------------------------------------------------#\n",
    "# 1. Pré-traitement                                                 #\n",
    "# ------------------------------------------------------------------#\n",
    "print(\"📦 Chargement des données...\")\n",
    "X_tr, X_val, y_tr, y_val, X_test, test_ids = preprocess(\"train.csv\", \"test.csv\", val_size=0.2, random_state=42)\n",
    "X_tr  = pd.concat([X_tr,  X_val], ignore_index=True)   # full train\n",
    "y_tr  = pd.concat([y_tr,  y_val], ignore_index=True)\n",
    "print(\"✅ Données chargées et concaténées.\")\n",
    "\n",
    "# ------------------------------------------------------------------#\n",
    "# 2. Conversion numérique                                           #\n",
    "# ------------------------------------------------------------------#\n",
    "print(\"🔢 Conversion numérique...\")\n",
    "def make_numeric(df):\n",
    "    df = df.copy()\n",
    "    cats = df.select_dtypes([\"object\", \"category\"]).columns\n",
    "    df[cats] = df[cats].astype(\"category\").apply(lambda s: s.cat.codes).astype(\"int32\")\n",
    "    df[df.select_dtypes(\"bool\").columns] = df.select_dtypes(\"bool\").astype(\"uint8\")\n",
    "    return df.astype(\"float32\")\n",
    "\n",
    "X_tr_n, X_test_n = map(make_numeric, [X_tr, X_test])\n",
    "print(\"✅ Conversion terminée.\")\n",
    "\n",
    "# ------------------------------------------------------------------#\n",
    "# 3. Sous-échantillon 30 % pour Optuna                              #\n",
    "# ------------------------------------------------------------------#\n",
    "print(\"🎯 Création sous-échantillon pour tuning...\")\n",
    "sub_idx = y_tr.sample(frac=0.3, random_state=42).index\n",
    "X_sub, y_sub = X_tr_n.loc[sub_idx], y_tr.loc[sub_idx]\n",
    "spw = (len(y_sub) - y_sub.sum()) / y_sub.sum()\n",
    "print(f\"✅ Sous-échantillon prêt — Taille : {len(X_sub)}\")\n",
    "\n",
    "# ------------------------------------------------------------------#\n",
    "# 4. Objective Optuna 3-fold CV + pruning                           #\n",
    "# ------------------------------------------------------------------#\n",
    "pruner = SuccessiveHalvingPruner(min_resource=200, reduction_factor=3)\n",
    "\n",
    "print(\"🕵️ Détection GPU...\")\n",
    "def detect_gpu_available():\n",
    "    try:\n",
    "        result = subprocess.run([\"nvidia-smi\"], stdout=subprocess.PIPE, stderr=subprocess.PIPE)\n",
    "        return result.returncode == 0\n",
    "    except FileNotFoundError:\n",
    "        return False\n",
    "\n",
    "def save_best_trial_if_needed(best_f1, trial, iters, best_t, path=\"best_xgb_params.json\"):\n",
    "    if os.path.exists(path):\n",
    "        with open(path, \"r\") as f:\n",
    "            best_so_far = json.load(f).get(\"f1\", 0.0)\n",
    "    else:\n",
    "        best_so_far = 0.0\n",
    "\n",
    "    if best_f1 > best_so_far:\n",
    "        with open(path, \"w\") as f:\n",
    "            json.dump({\n",
    "                \"f1\": float(best_f1),\n",
    "                \"params\": trial.params,\n",
    "                \"best_iter\": int(np.max(iters)),\n",
    "                \"best_thresh\": float(best_t)\n",
    "            }, f, indent=2)\n",
    "        print(f\"💾 Nouveau meilleur F1 = {best_f1:.4f} — sauvegardé.\")\n",
    "\n",
    "\n",
    "tree_method = \"gpu_hist\" if detect_gpu_available() else \"hist\"\n",
    "predictor = \"gpu_predictor\" if tree_method == \"gpu_hist\" else \"cpu_predictor\"\n",
    "print(\"⚙️ Méthode d'arbre sélectionnée :\", tree_method)\n",
    "print(\"⚙️ Prédicteur sélectionné        :\", predictor)\n",
    "\n",
    "def objective(trial):\n",
    "    print(f\"\\n🔬 Début essai Optuna n°{trial.number}\")\n",
    "    params = {\n",
    "        \"objective\": trial.suggest_categorical(\"objective\", [\"binary:logitraw\", \"binary:logistic\"]),\n",
    "        \"eval_metric\": \"auc\",\n",
    "        \"tree_method\": tree_method,\n",
    "        \"predictor\": predictor,\n",
    "        \"eta\": trial.suggest_float(\"eta\", 0.005, 0.15, log=True),\n",
    "        \"max_depth\": trial.suggest_int(\"max_depth\", 4, 12),\n",
    "        \"max_leaves\": trial.suggest_int(\"max_leaves\", 64, 512),\n",
    "        \"grow_policy\": trial.suggest_categorical(\"grow_policy\", [\"depthwise\", \"lossguide\"]),\n",
    "        \"max_bin\": trial.suggest_categorical(\"max_bin\", [64, 128, 256, 512]),\n",
    "        \"min_child_weight\": trial.suggest_float(\"min_child_weight\", 0.0, 20.0),\n",
    "        \"max_delta_step\": trial.suggest_int(\"max_delta_step\", 0, 2),\n",
    "        \"lambda\": trial.suggest_float(\"lambda\", 1e-3, 100.0, log=True),\n",
    "        \"alpha\":  trial.suggest_float(\"alpha\",  1e-3, 30.0,  log=True),\n",
    "        \"subsample\": trial.suggest_float(\"subsample\", 0.3, 0.8),\n",
    "        \"colsample_bytree\": trial.suggest_float(\"colsample_bytree\", 0.3, 0.8),\n",
    "        \"gamma\": trial.suggest_float(\"gamma\", 1e-8, 5.0, log=True),\n",
    "        \"scale_pos_weight\": trial.suggest_float(\"scale_pos_weight\", 0.5, 20.0, log=True),\n",
    "    }\n",
    "\n",
    "    skf = StratifiedKFold(n_splits=5, shuffle=True, random_state=42)\n",
    "    preds, truths, iters = [], [], []\n",
    "\n",
    "    for fold, (tr_idx, va_idx) in enumerate(skf.split(X_sub, y_sub)):\n",
    "        print(f\"  ➤ Fold {fold + 1}/5 — entraînement en cours...\")\n",
    "        dtr = xgb.DMatrix(X_sub.iloc[tr_idx], label=y_sub.iloc[tr_idx])\n",
    "        dva = xgb.DMatrix(X_sub.iloc[va_idx], label=y_sub.iloc[va_idx])\n",
    "\n",
    "        cbs = [xgb.callback.EarlyStopping(rounds=150)]\n",
    "        if fold == 0:\n",
    "            cbs.append(XGBoostPruningCallback(trial, \"val-auc\"))\n",
    "\n",
    "        bst = xgb.train(\n",
    "            params, dtr,\n",
    "            num_boost_round=8000,\n",
    "            evals=[(dva, \"val\")],\n",
    "            callbacks=cbs,\n",
    "            verbose_eval=False\n",
    "        )\n",
    "\n",
    "        print(f\"     ✅ Fold {fold + 1} terminé — Best iteration: {bst.best_iteration}\")\n",
    "\n",
    "        preds.append(bst.predict(dva, iteration_range=(0, bst.best_iteration)))\n",
    "        truths.append(y_sub.iloc[va_idx].values)\n",
    "        iters.append(bst.best_iteration)\n",
    "\n",
    "    preds = np.concatenate(preds)\n",
    "    truths = np.concatenate(truths)\n",
    "\n",
    "    th_grid = np.linspace(0.25, 0.75, 21)\n",
    "    f1_scores = [f1_score(truths, preds >= t) for t in th_grid]\n",
    "    best_f1 = max(f1_scores)\n",
    "    best_t = th_grid[np.argmax(f1_scores)]\n",
    "\n",
    "    trial.set_user_attr(\"best_iter\", int(np.max(iters)))\n",
    "    trial.set_user_attr(\"best_thresh\", float(best_t))\n",
    "\n",
    "    save_best_trial_if_needed(best_f1, trial, iters, best_t)\n",
    "    print(f\"🏁 Fin essai Optuna {trial.number} — F1 = {best_f1:.4f}\")\n",
    "    \n",
    "    return best_f1\n",
    "\n",
    "\n",
    "\n",
    "study = optuna.create_study(\n",
    "    direction=\"maximize\",\n",
    "    pruner=SuccessiveHalvingPruner(min_resource=200, reduction_factor=3),\n",
    "    study_name=\"xgb_tuning\",\n",
    "    storage=\"sqlite:///optuna_xgb.db\",  # fichier local\n",
    "    load_if_exists=True\n",
    ")\n",
    "optuna.visualization.plot_optimization_history(study).show()\n",
    "\n",
    "TOTAL_TRIALS = 20\n",
    "news = 0\n",
    "done = len(study.trials)\n",
    "remaining = TOTAL_TRIALS - done + news\n",
    "\n",
    "if remaining <= 0:\n",
    "    print(f\"✅ Tous les {TOTAL_TRIALS} essais ont déjà été faits.\")\n",
    "else:\n",
    "    print(f\"⏳ Reprise : {done} essais faits, encore {remaining} à faire.\")\n",
    "    study.optimize(objective, n_trials=remaining, show_progress_bar=True)\n",
    "\n",
    "best_params = study.best_params.copy()\n",
    "best_iter   = int(study.best_trial.user_attrs[\"best_iter\"])\n",
    "best_thresh = study.best_trial.user_attrs[\"best_thresh\"]\n",
    "best_params.update({\"tree_method\": tree_method, \"predictor\": predictor})\n",
    "\n",
    "print(f\"🏆  F1 CV = {study.best_value:.4f} | iter ≈ {best_iter} | thr = {best_thresh:.3f}\")\n",
    "\n",
    "# ------------------------------------------------------------------#\n",
    "# 5. Entraînement final par CV + analyse avancée                #\n",
    "# ------------------------------------------------------------------#\n",
    "\n",
    "cv = StratifiedKFold(n_splits=5, shuffle=True, random_state=42)\n",
    "f1s, thresholds, all_cv_models = [], [], []\n",
    "\n",
    "for fold, (tr_idx, val_idx) in enumerate(cv.split(X_tr_n, y_tr)):\n",
    "    print(f\"\\n🔁 Fold {fold + 1}/5\")\n",
    "    dtr = xgb.DMatrix(X_tr_n.iloc[tr_idx], label=y_tr.iloc[tr_idx])\n",
    "    dva = xgb.DMatrix(X_tr_n.iloc[val_idx], label=y_tr.iloc[val_idx])\n",
    "\n",
    "    bst = xgb.train(\n",
    "        best_params,\n",
    "        dtr,\n",
    "        num_boost_round=best_iter,\n",
    "        verbose_eval=False\n",
    "    )\n",
    "\n",
    "    all_cv_models.append(bst)\n",
    "\n",
    "    # Importance features (affichée sur le 1er fold uniquement)\n",
    "    if fold == 0:\n",
    "        xgb.plot_importance(bst, max_num_features=20)\n",
    "        plt.title(\"Feature importance (Fold 1)\")\n",
    "        plt.show()\n",
    "\n",
    "    proba = bst.predict(dva, iteration_range=(0, best_iter))\n",
    "    if best_params.get(\"objective\") == \"binary:logitraw\":\n",
    "        proba = 1 / (1 + np.exp(-proba))\n",
    "\n",
    "    # Seuil optimal par fold\n",
    "    th_grid = np.linspace(0.25, 0.75, 21)\n",
    "    f1_grid = [f1_score(y_tr.iloc[val_idx], proba >= t) for t in th_grid]\n",
    "    best_t = th_grid[np.argmax(f1_grid)]\n",
    "    thresholds.append(best_t)\n",
    "\n",
    "    labels = (proba >= best_t).astype(int)\n",
    "    score = f1_score(y_tr.iloc[val_idx], labels)\n",
    "    f1s.append(score)\n",
    "\n",
    "    # Analyse des erreurs (matrice de confusion)\n",
    "    cm = confusion_matrix(y_tr.iloc[val_idx], labels)\n",
    "    sns.heatmap(cm, annot=True, fmt='d', cmap='Blues')\n",
    "    plt.title(f\"Confusion Matrix Fold {fold + 1}\")\n",
    "    plt.xlabel(\"Predicted\")\n",
    "    plt.ylabel(\"Actual\")\n",
    "    plt.show()\n",
    "\n",
    "    print(classification_report(y_tr.iloc[val_idx], labels))\n",
    "\n",
    "mean_f1 = np.mean(f1s)\n",
    "std_f1 = np.std(f1s)\n",
    "print(f\"\\n📊 F1 moyen sur 5 folds = {mean_f1:.4f} ± {std_f1:.4f}\")\n",
    "\n",
    "# ------------------------------------------------------------------#\n",
    "# 6. Prédiction test : moyennage sur les folds                     #\n",
    "# ------------------------------------------------------------------#\n",
    "\n",
    "# Prédiction test moyennée sur tous les folds pondérés par F1\n",
    "weights = np.array(f1s) / np.sum(f1s)\n",
    "cv_preds = sum(\n",
    "    model.predict(xgb.DMatrix(X_test_n), iteration_range=(0, best_iter)) * w\n",
    "    for model, w in zip(all_cv_models, weights)\n",
    ")\n",
    "\n",
    "# Seuil moyen (ou tu peux prendre la médiane)\n",
    "best_thresh_cv = np.mean(thresholds)\n",
    "\n",
    "if best_params.get(\"objective\") == \"binary:logitraw\":\n",
    "    cv_preds = 1 / (1 + np.exp(-cv_preds))\n",
    "\n",
    "labels = (cv_preds >= best_thresh_cv).astype(int)\n",
    "\n",
    "pd.DataFrame({\"auctionId\": test_ids, \"isSold\": labels}).to_csv(\"submission_xgb_optuna_cv_avg.csv\", index=False)\n",
    "print(\"✅ submission_xgb_optuna_cv_avg.csv enregistré\")\n"
   ]
  }
 ],
 "metadata": {
  "kernelspec": {
   "display_name": "Python 3",
   "language": "python",
   "name": "python3"
  },
  "language_info": {
   "codemirror_mode": {
    "name": "ipython",
    "version": 3
   },
   "file_extension": ".py",
   "mimetype": "text/x-python",
   "name": "python",
   "nbconvert_exporter": "python",
   "pygments_lexer": "ipython3",
   "version": "3.9.10"
  }
 },
 "nbformat": 4,
 "nbformat_minor": 5
}
